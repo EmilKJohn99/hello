{
  "nbformat": 4,
  "nbformat_minor": 0,
  "metadata": {
    "colab": {
      "provenance": [],
      "authorship_tag": "ABX9TyPF+6OaHnmF9sR6KyPPYLe8",
      "include_colab_link": true
    },
    "kernelspec": {
      "name": "python3",
      "display_name": "Python 3"
    },
    "language_info": {
      "name": "python"
    }
  },
  "cells": [
    {
      "cell_type": "markdown",
      "metadata": {
        "id": "view-in-github",
        "colab_type": "text"
      },
      "source": [
        "<a href=\"https://colab.research.google.com/github/EmilKJohn99/hello/blob/emilwork/word2vec.ipynb\" target=\"_parent\"><img src=\"https://colab.research.google.com/assets/colab-badge.svg\" alt=\"Open In Colab\"/></a>"
      ]
    },
    {
      "cell_type": "code",
      "execution_count": 28,
      "metadata": {
        "id": "2uyU1sGQI8cF"
      },
      "outputs": [],
      "source": [
        "import tensorflow as tf\n",
        "from tensorflow.keras.preprocessing.text import Tokenizer\n",
        "import pandas as pd\n"
      ]
    },
    {
      "cell_type": "code",
      "source": [
        "import pandas as pd\n",
        "from pyspark.sql import SparkSession\n",
        "from pyspark.sql.types import ArrayType, StringType\n",
        "from pyspark.sql.functions import udf\n",
        "import re\n"
      ],
      "metadata": {
        "id": "_pUbu4SYScAF"
      },
      "execution_count": 33,
      "outputs": []
    },
    {
      "cell_type": "code",
      "source": [
        "!pip install kaggle"
      ],
      "metadata": {
        "colab": {
          "base_uri": "https://localhost:8080/"
        },
        "id": "DoXj8vG5O9wN",
        "outputId": "9debc069-744d-40e2-b672-bac4e9a9e06b"
      },
      "execution_count": 19,
      "outputs": [
        {
          "output_type": "stream",
          "name": "stdout",
          "text": [
            "Requirement already satisfied: kaggle in /usr/local/lib/python3.11/dist-packages (1.7.4.5)\n",
            "Requirement already satisfied: bleach in /usr/local/lib/python3.11/dist-packages (from kaggle) (6.2.0)\n",
            "Requirement already satisfied: certifi>=14.05.14 in /usr/local/lib/python3.11/dist-packages (from kaggle) (2025.4.26)\n",
            "Requirement already satisfied: charset-normalizer in /usr/local/lib/python3.11/dist-packages (from kaggle) (3.4.2)\n",
            "Requirement already satisfied: idna in /usr/local/lib/python3.11/dist-packages (from kaggle) (3.10)\n",
            "Requirement already satisfied: protobuf in /usr/local/lib/python3.11/dist-packages (from kaggle) (5.29.4)\n",
            "Requirement already satisfied: python-dateutil>=2.5.3 in /usr/local/lib/python3.11/dist-packages (from kaggle) (2.9.0.post0)\n",
            "Requirement already satisfied: python-slugify in /usr/local/lib/python3.11/dist-packages (from kaggle) (8.0.4)\n",
            "Requirement already satisfied: requests in /usr/local/lib/python3.11/dist-packages (from kaggle) (2.32.3)\n",
            "Requirement already satisfied: setuptools>=21.0.0 in /usr/local/lib/python3.11/dist-packages (from kaggle) (75.2.0)\n",
            "Requirement already satisfied: six>=1.10 in /usr/local/lib/python3.11/dist-packages (from kaggle) (1.17.0)\n",
            "Requirement already satisfied: text-unidecode in /usr/local/lib/python3.11/dist-packages (from kaggle) (1.3)\n",
            "Requirement already satisfied: tqdm in /usr/local/lib/python3.11/dist-packages (from kaggle) (4.67.1)\n",
            "Requirement already satisfied: urllib3>=1.15.1 in /usr/local/lib/python3.11/dist-packages (from kaggle) (2.4.0)\n",
            "Requirement already satisfied: webencodings in /usr/local/lib/python3.11/dist-packages (from kaggle) (0.5.1)\n"
          ]
        }
      ]
    },
    {
      "cell_type": "code",
      "source": [
        "!mkdir -p ~/.kaggle\n",
        "!cp kaggle.json ~/.kaggle/\n",
        "!chmod 600 ~/.kaggle/kaggle.json"
      ],
      "metadata": {
        "id": "d6jBl1YLOkdi"
      },
      "execution_count": 20,
      "outputs": []
    },
    {
      "cell_type": "code",
      "source": [
        "#fetching dataset from kaggle\n",
        "!kaggle datasets download -d kazanova/sentiment140"
      ],
      "metadata": {
        "colab": {
          "base_uri": "https://localhost:8080/"
        },
        "id": "MhYCvqbSOlro",
        "outputId": "4ee764c3-242f-43e9-f20c-50dc6f83f3c3"
      },
      "execution_count": 21,
      "outputs": [
        {
          "output_type": "stream",
          "name": "stdout",
          "text": [
            "Dataset URL: https://www.kaggle.com/datasets/kazanova/sentiment140\n",
            "License(s): other\n",
            "sentiment140.zip: Skipping, found more recently modified local copy (use --force to force download)\n"
          ]
        }
      ]
    },
    {
      "cell_type": "code",
      "source": [
        "#extracting zip file\n",
        "\n",
        "from zipfile import ZipFile\n",
        "dataset='/content/sentiment140.zip'\n",
        "\n",
        "with ZipFile(dataset,'r') as zip:\n",
        "  zip.extractall()\n",
        "  print(\"dataset has been extracted\")"
      ],
      "metadata": {
        "colab": {
          "base_uri": "https://localhost:8080/"
        },
        "id": "XTgPO1VdOqK0",
        "outputId": "d48a633e-96b2-46f6-acc6-403883585ba0"
      },
      "execution_count": 22,
      "outputs": [
        {
          "output_type": "stream",
          "name": "stdout",
          "text": [
            "dataset has been extracted\n"
          ]
        }
      ]
    },
    {
      "cell_type": "code",
      "source": [
        "from pyspark.sql import SparkSession\n",
        "\n",
        "# 1. Create Spark session (only once)\n",
        "spark = SparkSession.builder.appName(\"TwitterSentiment\").getOrCreate()\n",
        "\n",
        "# 2. Define column names\n",
        "column_names = ['target', 'id', 'date', 'flag', 'user', 'text']\n",
        "\n",
        "# 3. Read CSV into PySpark DataFrame\n",
        "df = spark.read.csv(\"/content/training.1600000.processed.noemoticon.csv\",\n",
        "                    header=False,       # because the CSV has no header\n",
        "                    inferSchema=True,   # infer data types\n",
        "                    encoding=\"ISO-8859-1\")  # for special characters\n",
        "\n",
        "# 4. Rename columns\n",
        "df = df.toDF(*column_names)\n",
        "\n",
        "# 5. Show first few rows\n",
        "df.show(5)\n"
      ],
      "metadata": {
        "colab": {
          "base_uri": "https://localhost:8080/"
        },
        "id": "_1JSdnixecMG",
        "outputId": "1d464a2f-797d-435a-ec99-56a169eaf5be"
      },
      "execution_count": 60,
      "outputs": [
        {
          "output_type": "stream",
          "name": "stdout",
          "text": [
            "+------+----------+--------------------+--------+---------------+--------------------+\n",
            "|target|        id|                date|    flag|           user|                text|\n",
            "+------+----------+--------------------+--------+---------------+--------------------+\n",
            "|     0|1467810369|Mon Apr 06 22:19:...|NO_QUERY|_TheSpecialOne_|@switchfoot http:...|\n",
            "|     0|1467810672|Mon Apr 06 22:19:...|NO_QUERY|  scotthamilton|is upset that he ...|\n",
            "|     0|1467810917|Mon Apr 06 22:19:...|NO_QUERY|       mattycus|@Kenichan I dived...|\n",
            "|     0|1467811184|Mon Apr 06 22:19:...|NO_QUERY|        ElleCTF|my whole body fee...|\n",
            "|     0|1467811193|Mon Apr 06 22:19:...|NO_QUERY|         Karoli|@nationwideclass ...|\n",
            "+------+----------+--------------------+--------+---------------+--------------------+\n",
            "only showing top 5 rows\n",
            "\n"
          ]
        }
      ]
    },
    {
      "cell_type": "code",
      "source": [
        "from pyspark.sql import SparkSession\n",
        "\n",
        "spark = SparkSession.builder \\\n",
        "    .appName(\"Word2VecExample\") \\\n",
        "    .getOrCreate()\n"
      ],
      "metadata": {
        "id": "LpwfLVLOPX7K"
      },
      "execution_count": 61,
      "outputs": []
    },
    {
      "cell_type": "code",
      "source": [
        "from pyspark.sql.functions import col, lower, regexp_replace, split\n",
        "\n",
        "# 1. Convert text to lowercase and remove non-alphabetic characters\n",
        "df = df.withColumn(\"clean_text\", regexp_replace(lower(col(\"text\")), r\"[^a-z\\s]\", \"\"))\n",
        "\n",
        "# 2. Tokenize (split into words)\n",
        "df = df.withColumn(\"tokens\", split(col(\"clean_text\"), \" \"))\n"
      ],
      "metadata": {
        "id": "WrK-8zJfe-up"
      },
      "execution_count": 63,
      "outputs": []
    },
    {
      "cell_type": "code",
      "source": [
        "spark_df = df.select(\"tokens\")\n"
      ],
      "metadata": {
        "id": "2RjXrxPefMkb"
      },
      "execution_count": 65,
      "outputs": []
    },
    {
      "cell_type": "code",
      "source": [
        "spark_df.select(\"tokens\").show(10, truncate=False)\n"
      ],
      "metadata": {
        "colab": {
          "base_uri": "https://localhost:8080/"
        },
        "id": "uAG1zGMdTlJt",
        "outputId": "0764a042-e162-4ab6-f112-cbdd8d24511d"
      },
      "execution_count": 67,
      "outputs": [
        {
          "output_type": "stream",
          "name": "stdout",
          "text": [
            "+--------------------------------------------------------------------------------------------------------------------------------+\n",
            "|tokens                                                                                                                          |\n",
            "+--------------------------------------------------------------------------------------------------------------------------------+\n",
            "|[switchfoot, httptwitpiccomyzl, , awww, thats, a, bummer, , you, shoulda, got, david, carr, of, third, day, to, do, it, d]      |\n",
            "|[is, upset, that, he, cant, update, his, facebook, by, texting, it, and, might, cry, as, a, result, , school, today, also, blah]|\n",
            "|[kenichan, i, dived, many, times, for, the, ball, managed, to, save, , , the, rest, go, out, of, bounds]                        |\n",
            "|[my, whole, body, feels, itchy, and, like, its, on, fire, ]                                                                     |\n",
            "|[nationwideclass, no, its, not, behaving, at, all, im, mad, why, am, i, here, because, i, cant, see, you, all, over, there, ]   |\n",
            "|[kwesidei, not, the, whole, crew, ]                                                                                             |\n",
            "|[need, a, hug, ]                                                                                                                |\n",
            "|[loltrish, hey, , long, time, no, see, yes, rains, a, bit, only, a, bit, , lol, , im, fine, thanks, , hows, you, ]              |\n",
            "|[tatianak, nope, they, didnt, have, it, ]                                                                                       |\n",
            "|[twittera, que, me, muera, , ]                                                                                                  |\n",
            "+--------------------------------------------------------------------------------------------------------------------------------+\n",
            "only showing top 10 rows\n",
            "\n"
          ]
        }
      ]
    },
    {
      "cell_type": "code",
      "source": [
        "from pyspark.ml.feature import StopWordsRemover\n",
        "\n",
        "remover = StopWordsRemover(inputCol=\"tokens\", outputCol=\"filtered_tokens\")\n",
        "filtered_df = remover.transform(spark_df)\n"
      ],
      "metadata": {
        "id": "rleYnPvuTunh"
      },
      "execution_count": 68,
      "outputs": []
    },
    {
      "cell_type": "code",
      "source": [
        "filtered_df.show()"
      ],
      "metadata": {
        "colab": {
          "base_uri": "https://localhost:8080/"
        },
        "id": "0eWnMugTa7C3",
        "outputId": "9e8872b0-c041-4993-fae6-a4de40c7a235"
      },
      "execution_count": 69,
      "outputs": [
        {
          "output_type": "stream",
          "name": "stdout",
          "text": [
            "+--------------------+--------------------+\n",
            "|              tokens|     filtered_tokens|\n",
            "+--------------------+--------------------+\n",
            "|[switchfoot, http...|[switchfoot, http...|\n",
            "|[is, upset, that,...|[upset, cant, upd...|\n",
            "|[kenichan, i, div...|[kenichan, dived,...|\n",
            "|[my, whole, body,...|[whole, body, fee...|\n",
            "|[nationwideclass,...|[nationwideclass,...|\n",
            "|[kwesidei, not, t...|[kwesidei, whole,...|\n",
            "|    [need, a, hug, ]|       [need, hug, ]|\n",
            "|[loltrish, hey, ,...|[loltrish, hey, ,...|\n",
            "|[tatianak, nope, ...|[tatianak, nope, ...|\n",
            "|[twittera, que, m...|[twittera, que, m...|\n",
            "|[spring, break, i...|[spring, break, p...|\n",
            "|[i, just, repierc...| [repierced, ears, ]|\n",
            "|[caregiving, i, c...|[caregiving, coul...|\n",
            "|[octolinz, it, it...|[octolinz, counts...|\n",
            "|[smarrison, i, wo...|[smarrison, would...|\n",
            "|[iamjazzyfizzle, ...|[iamjazzyfizzle, ...|\n",
            "|[hollis, death, s...|[hollis, death, s...|\n",
            "|[about, to, file,...|     [file, taxes, ]|\n",
            "|[lettya, ahh, ive...|[lettya, ahh, ive...|\n",
            "|[fakerpattypattz,...|[fakerpattypattz,...|\n",
            "+--------------------+--------------------+\n",
            "only showing top 20 rows\n",
            "\n"
          ]
        }
      ]
    },
    {
      "cell_type": "code",
      "source": [
        "filtered_df = filtered_df.drop(\"tokens\")\n"
      ],
      "metadata": {
        "id": "8AM5JWlXbUIp"
      },
      "execution_count": 48,
      "outputs": []
    },
    {
      "cell_type": "code",
      "source": [
        "df.head()\n"
      ],
      "metadata": {
        "colab": {
          "base_uri": "https://localhost:8080/",
          "height": 379
        },
        "id": "S09rlTmxdgsl",
        "outputId": "55193214-4ba9-43a3-9412-43ee1d110da3"
      },
      "execution_count": 55,
      "outputs": [
        {
          "output_type": "execute_result",
          "data": {
            "text/plain": [
              "   target          id                          date      flag  \\\n",
              "0       0  1467810369  Mon Apr 06 22:19:45 PDT 2009  NO_QUERY   \n",
              "1       0  1467810672  Mon Apr 06 22:19:49 PDT 2009  NO_QUERY   \n",
              "2       0  1467810917  Mon Apr 06 22:19:53 PDT 2009  NO_QUERY   \n",
              "3       0  1467811184  Mon Apr 06 22:19:57 PDT 2009  NO_QUERY   \n",
              "4       0  1467811193  Mon Apr 06 22:19:57 PDT 2009  NO_QUERY   \n",
              "\n",
              "              user                                               text  \\\n",
              "0  _TheSpecialOne_  switchfoot httptwitpiccomyzl  awww thats a bum...   \n",
              "1    scotthamilton  is upset that he cant update his facebook by t...   \n",
              "2         mattycus  kenichan i dived many times for the ball manag...   \n",
              "3          ElleCTF    my whole body feels itchy and like its on fire    \n",
              "4           Karoli  nationwideclass no its not behaving at all im ...   \n",
              "\n",
              "                                              tokens  \\\n",
              "0  [switchfoot, httptwitpiccomyzl, awww, thats, a...   \n",
              "1  [is, upset, that, he, cant, update, his, faceb...   \n",
              "2  [kenichan, i, dived, many, times, for, the, ba...   \n",
              "3  [my, whole, body, feels, itchy, and, like, its...   \n",
              "4  [nationwideclass, no, its, not, behaving, at, ...   \n",
              "\n",
              "                             filtered_tokens  \n",
              "0  DataFrame[filtered_tokens: array<string>]  \n",
              "1  DataFrame[filtered_tokens: array<string>]  \n",
              "2  DataFrame[filtered_tokens: array<string>]  \n",
              "3  DataFrame[filtered_tokens: array<string>]  \n",
              "4  DataFrame[filtered_tokens: array<string>]  "
            ],
            "text/html": [
              "\n",
              "  <div id=\"df-18c07bc2-dd49-405a-8aa3-f04053a8d3aa\" class=\"colab-df-container\">\n",
              "    <div>\n",
              "<style scoped>\n",
              "    .dataframe tbody tr th:only-of-type {\n",
              "        vertical-align: middle;\n",
              "    }\n",
              "\n",
              "    .dataframe tbody tr th {\n",
              "        vertical-align: top;\n",
              "    }\n",
              "\n",
              "    .dataframe thead th {\n",
              "        text-align: right;\n",
              "    }\n",
              "</style>\n",
              "<table border=\"1\" class=\"dataframe\">\n",
              "  <thead>\n",
              "    <tr style=\"text-align: right;\">\n",
              "      <th></th>\n",
              "      <th>target</th>\n",
              "      <th>id</th>\n",
              "      <th>date</th>\n",
              "      <th>flag</th>\n",
              "      <th>user</th>\n",
              "      <th>text</th>\n",
              "      <th>tokens</th>\n",
              "      <th>filtered_tokens</th>\n",
              "    </tr>\n",
              "  </thead>\n",
              "  <tbody>\n",
              "    <tr>\n",
              "      <th>0</th>\n",
              "      <td>0</td>\n",
              "      <td>1467810369</td>\n",
              "      <td>Mon Apr 06 22:19:45 PDT 2009</td>\n",
              "      <td>NO_QUERY</td>\n",
              "      <td>_TheSpecialOne_</td>\n",
              "      <td>switchfoot httptwitpiccomyzl  awww thats a bum...</td>\n",
              "      <td>[switchfoot, httptwitpiccomyzl, awww, thats, a...</td>\n",
              "      <td>DataFrame[filtered_tokens: array&lt;string&gt;]</td>\n",
              "    </tr>\n",
              "    <tr>\n",
              "      <th>1</th>\n",
              "      <td>0</td>\n",
              "      <td>1467810672</td>\n",
              "      <td>Mon Apr 06 22:19:49 PDT 2009</td>\n",
              "      <td>NO_QUERY</td>\n",
              "      <td>scotthamilton</td>\n",
              "      <td>is upset that he cant update his facebook by t...</td>\n",
              "      <td>[is, upset, that, he, cant, update, his, faceb...</td>\n",
              "      <td>DataFrame[filtered_tokens: array&lt;string&gt;]</td>\n",
              "    </tr>\n",
              "    <tr>\n",
              "      <th>2</th>\n",
              "      <td>0</td>\n",
              "      <td>1467810917</td>\n",
              "      <td>Mon Apr 06 22:19:53 PDT 2009</td>\n",
              "      <td>NO_QUERY</td>\n",
              "      <td>mattycus</td>\n",
              "      <td>kenichan i dived many times for the ball manag...</td>\n",
              "      <td>[kenichan, i, dived, many, times, for, the, ba...</td>\n",
              "      <td>DataFrame[filtered_tokens: array&lt;string&gt;]</td>\n",
              "    </tr>\n",
              "    <tr>\n",
              "      <th>3</th>\n",
              "      <td>0</td>\n",
              "      <td>1467811184</td>\n",
              "      <td>Mon Apr 06 22:19:57 PDT 2009</td>\n",
              "      <td>NO_QUERY</td>\n",
              "      <td>ElleCTF</td>\n",
              "      <td>my whole body feels itchy and like its on fire</td>\n",
              "      <td>[my, whole, body, feels, itchy, and, like, its...</td>\n",
              "      <td>DataFrame[filtered_tokens: array&lt;string&gt;]</td>\n",
              "    </tr>\n",
              "    <tr>\n",
              "      <th>4</th>\n",
              "      <td>0</td>\n",
              "      <td>1467811193</td>\n",
              "      <td>Mon Apr 06 22:19:57 PDT 2009</td>\n",
              "      <td>NO_QUERY</td>\n",
              "      <td>Karoli</td>\n",
              "      <td>nationwideclass no its not behaving at all im ...</td>\n",
              "      <td>[nationwideclass, no, its, not, behaving, at, ...</td>\n",
              "      <td>DataFrame[filtered_tokens: array&lt;string&gt;]</td>\n",
              "    </tr>\n",
              "  </tbody>\n",
              "</table>\n",
              "</div>\n",
              "    <div class=\"colab-df-buttons\">\n",
              "\n",
              "  <div class=\"colab-df-container\">\n",
              "    <button class=\"colab-df-convert\" onclick=\"convertToInteractive('df-18c07bc2-dd49-405a-8aa3-f04053a8d3aa')\"\n",
              "            title=\"Convert this dataframe to an interactive table.\"\n",
              "            style=\"display:none;\">\n",
              "\n",
              "  <svg xmlns=\"http://www.w3.org/2000/svg\" height=\"24px\" viewBox=\"0 -960 960 960\">\n",
              "    <path d=\"M120-120v-720h720v720H120Zm60-500h600v-160H180v160Zm220 220h160v-160H400v160Zm0 220h160v-160H400v160ZM180-400h160v-160H180v160Zm440 0h160v-160H620v160ZM180-180h160v-160H180v160Zm440 0h160v-160H620v160Z\"/>\n",
              "  </svg>\n",
              "    </button>\n",
              "\n",
              "  <style>\n",
              "    .colab-df-container {\n",
              "      display:flex;\n",
              "      gap: 12px;\n",
              "    }\n",
              "\n",
              "    .colab-df-convert {\n",
              "      background-color: #E8F0FE;\n",
              "      border: none;\n",
              "      border-radius: 50%;\n",
              "      cursor: pointer;\n",
              "      display: none;\n",
              "      fill: #1967D2;\n",
              "      height: 32px;\n",
              "      padding: 0 0 0 0;\n",
              "      width: 32px;\n",
              "    }\n",
              "\n",
              "    .colab-df-convert:hover {\n",
              "      background-color: #E2EBFA;\n",
              "      box-shadow: 0px 1px 2px rgba(60, 64, 67, 0.3), 0px 1px 3px 1px rgba(60, 64, 67, 0.15);\n",
              "      fill: #174EA6;\n",
              "    }\n",
              "\n",
              "    .colab-df-buttons div {\n",
              "      margin-bottom: 4px;\n",
              "    }\n",
              "\n",
              "    [theme=dark] .colab-df-convert {\n",
              "      background-color: #3B4455;\n",
              "      fill: #D2E3FC;\n",
              "    }\n",
              "\n",
              "    [theme=dark] .colab-df-convert:hover {\n",
              "      background-color: #434B5C;\n",
              "      box-shadow: 0px 1px 3px 1px rgba(0, 0, 0, 0.15);\n",
              "      filter: drop-shadow(0px 1px 2px rgba(0, 0, 0, 0.3));\n",
              "      fill: #FFFFFF;\n",
              "    }\n",
              "  </style>\n",
              "\n",
              "    <script>\n",
              "      const buttonEl =\n",
              "        document.querySelector('#df-18c07bc2-dd49-405a-8aa3-f04053a8d3aa button.colab-df-convert');\n",
              "      buttonEl.style.display =\n",
              "        google.colab.kernel.accessAllowed ? 'block' : 'none';\n",
              "\n",
              "      async function convertToInteractive(key) {\n",
              "        const element = document.querySelector('#df-18c07bc2-dd49-405a-8aa3-f04053a8d3aa');\n",
              "        const dataTable =\n",
              "          await google.colab.kernel.invokeFunction('convertToInteractive',\n",
              "                                                    [key], {});\n",
              "        if (!dataTable) return;\n",
              "\n",
              "        const docLinkHtml = 'Like what you see? Visit the ' +\n",
              "          '<a target=\"_blank\" href=https://colab.research.google.com/notebooks/data_table.ipynb>data table notebook</a>'\n",
              "          + ' to learn more about interactive tables.';\n",
              "        element.innerHTML = '';\n",
              "        dataTable['output_type'] = 'display_data';\n",
              "        await google.colab.output.renderOutput(dataTable, element);\n",
              "        const docLink = document.createElement('div');\n",
              "        docLink.innerHTML = docLinkHtml;\n",
              "        element.appendChild(docLink);\n",
              "      }\n",
              "    </script>\n",
              "  </div>\n",
              "\n",
              "\n",
              "    <div id=\"df-0b1d8a99-4b27-4542-90e1-52b5a455da0e\">\n",
              "      <button class=\"colab-df-quickchart\" onclick=\"quickchart('df-0b1d8a99-4b27-4542-90e1-52b5a455da0e')\"\n",
              "                title=\"Suggest charts\"\n",
              "                style=\"display:none;\">\n",
              "\n",
              "<svg xmlns=\"http://www.w3.org/2000/svg\" height=\"24px\"viewBox=\"0 0 24 24\"\n",
              "     width=\"24px\">\n",
              "    <g>\n",
              "        <path d=\"M19 3H5c-1.1 0-2 .9-2 2v14c0 1.1.9 2 2 2h14c1.1 0 2-.9 2-2V5c0-1.1-.9-2-2-2zM9 17H7v-7h2v7zm4 0h-2V7h2v10zm4 0h-2v-4h2v4z\"/>\n",
              "    </g>\n",
              "</svg>\n",
              "      </button>\n",
              "\n",
              "<style>\n",
              "  .colab-df-quickchart {\n",
              "      --bg-color: #E8F0FE;\n",
              "      --fill-color: #1967D2;\n",
              "      --hover-bg-color: #E2EBFA;\n",
              "      --hover-fill-color: #174EA6;\n",
              "      --disabled-fill-color: #AAA;\n",
              "      --disabled-bg-color: #DDD;\n",
              "  }\n",
              "\n",
              "  [theme=dark] .colab-df-quickchart {\n",
              "      --bg-color: #3B4455;\n",
              "      --fill-color: #D2E3FC;\n",
              "      --hover-bg-color: #434B5C;\n",
              "      --hover-fill-color: #FFFFFF;\n",
              "      --disabled-bg-color: #3B4455;\n",
              "      --disabled-fill-color: #666;\n",
              "  }\n",
              "\n",
              "  .colab-df-quickchart {\n",
              "    background-color: var(--bg-color);\n",
              "    border: none;\n",
              "    border-radius: 50%;\n",
              "    cursor: pointer;\n",
              "    display: none;\n",
              "    fill: var(--fill-color);\n",
              "    height: 32px;\n",
              "    padding: 0;\n",
              "    width: 32px;\n",
              "  }\n",
              "\n",
              "  .colab-df-quickchart:hover {\n",
              "    background-color: var(--hover-bg-color);\n",
              "    box-shadow: 0 1px 2px rgba(60, 64, 67, 0.3), 0 1px 3px 1px rgba(60, 64, 67, 0.15);\n",
              "    fill: var(--button-hover-fill-color);\n",
              "  }\n",
              "\n",
              "  .colab-df-quickchart-complete:disabled,\n",
              "  .colab-df-quickchart-complete:disabled:hover {\n",
              "    background-color: var(--disabled-bg-color);\n",
              "    fill: var(--disabled-fill-color);\n",
              "    box-shadow: none;\n",
              "  }\n",
              "\n",
              "  .colab-df-spinner {\n",
              "    border: 2px solid var(--fill-color);\n",
              "    border-color: transparent;\n",
              "    border-bottom-color: var(--fill-color);\n",
              "    animation:\n",
              "      spin 1s steps(1) infinite;\n",
              "  }\n",
              "\n",
              "  @keyframes spin {\n",
              "    0% {\n",
              "      border-color: transparent;\n",
              "      border-bottom-color: var(--fill-color);\n",
              "      border-left-color: var(--fill-color);\n",
              "    }\n",
              "    20% {\n",
              "      border-color: transparent;\n",
              "      border-left-color: var(--fill-color);\n",
              "      border-top-color: var(--fill-color);\n",
              "    }\n",
              "    30% {\n",
              "      border-color: transparent;\n",
              "      border-left-color: var(--fill-color);\n",
              "      border-top-color: var(--fill-color);\n",
              "      border-right-color: var(--fill-color);\n",
              "    }\n",
              "    40% {\n",
              "      border-color: transparent;\n",
              "      border-right-color: var(--fill-color);\n",
              "      border-top-color: var(--fill-color);\n",
              "    }\n",
              "    60% {\n",
              "      border-color: transparent;\n",
              "      border-right-color: var(--fill-color);\n",
              "    }\n",
              "    80% {\n",
              "      border-color: transparent;\n",
              "      border-right-color: var(--fill-color);\n",
              "      border-bottom-color: var(--fill-color);\n",
              "    }\n",
              "    90% {\n",
              "      border-color: transparent;\n",
              "      border-bottom-color: var(--fill-color);\n",
              "    }\n",
              "  }\n",
              "</style>\n",
              "\n",
              "      <script>\n",
              "        async function quickchart(key) {\n",
              "          const quickchartButtonEl =\n",
              "            document.querySelector('#' + key + ' button');\n",
              "          quickchartButtonEl.disabled = true;  // To prevent multiple clicks.\n",
              "          quickchartButtonEl.classList.add('colab-df-spinner');\n",
              "          try {\n",
              "            const charts = await google.colab.kernel.invokeFunction(\n",
              "                'suggestCharts', [key], {});\n",
              "          } catch (error) {\n",
              "            console.error('Error during call to suggestCharts:', error);\n",
              "          }\n",
              "          quickchartButtonEl.classList.remove('colab-df-spinner');\n",
              "          quickchartButtonEl.classList.add('colab-df-quickchart-complete');\n",
              "        }\n",
              "        (() => {\n",
              "          let quickchartButtonEl =\n",
              "            document.querySelector('#df-0b1d8a99-4b27-4542-90e1-52b5a455da0e button');\n",
              "          quickchartButtonEl.style.display =\n",
              "            google.colab.kernel.accessAllowed ? 'block' : 'none';\n",
              "        })();\n",
              "      </script>\n",
              "    </div>\n",
              "\n",
              "    </div>\n",
              "  </div>\n"
            ],
            "application/vnd.google.colaboratory.intrinsic+json": {
              "type": "dataframe",
              "variable_name": "df"
            }
          },
          "metadata": {},
          "execution_count": 55
        }
      ]
    },
    {
      "cell_type": "code",
      "source": [
        "print(df.columns)\n"
      ],
      "metadata": {
        "colab": {
          "base_uri": "https://localhost:8080/"
        },
        "id": "YCJhulVSdvao",
        "outputId": "bd78f1e2-acf8-45a4-ff3a-9445182db372"
      },
      "execution_count": 57,
      "outputs": [
        {
          "output_type": "stream",
          "name": "stdout",
          "text": [
            "Index(['target', 'id', 'date', 'flag', 'user', 'text', 'tokens',\n",
            "       'filtered_tokens'],\n",
            "      dtype='object')\n"
          ]
        }
      ]
    },
    {
      "cell_type": "code",
      "source": [
        "df = df.drop(\"filtered_tokens\", axis=1)\n"
      ],
      "metadata": {
        "id": "aNW4BYcndJnA"
      },
      "execution_count": 58,
      "outputs": []
    },
    {
      "cell_type": "code",
      "source": [
        "from pyspark.ml.feature import Word2Vec\n",
        "\n",
        "word2Vec = Word2Vec(vectorSize=100, minCount=5, inputCol=\"filtered_tokens\", outputCol=\"features\")\n",
        "model = word2Vec.fit(filtered_df)\n"
      ],
      "metadata": {
        "id": "r-sajHfKUOsX"
      },
      "execution_count": 70,
      "outputs": []
    },
    {
      "cell_type": "code",
      "source": [
        "from pyspark.ml.feature import Word2Vec\n",
        "\n",
        "word2Vec = Word2Vec(\n",
        "    vectorSize=100,       # size of word vectors\n",
        "    windowSize=5,         # context window\n",
        "    minCount=5,           # ignore words with <5 occurrences\n",
        "    inputCol=\"filtered_tokens\",  # or \"tokens\" if you skipped stopwords\n",
        "    outputCol=\"features\"\n",
        ")\n",
        "\n",
        "model = word2Vec.fit(filtered_df)\n"
      ],
      "metadata": {
        "id": "au1pUrrrURFP"
      },
      "execution_count": 71,
      "outputs": []
    },
    {
      "cell_type": "code",
      "source": [
        "result = model.transform(filtered_df)\n"
      ],
      "metadata": {
        "id": "hOH8N-vCaQyQ"
      },
      "execution_count": 72,
      "outputs": []
    },
    {
      "cell_type": "code",
      "source": [
        "from pyspark.sql.functions import monotonically_increasing_id\n",
        "\n",
        "# Add index columns\n",
        "df_with_index = df.withColumn(\"idx\", monotonically_increasing_id())\n",
        "result_with_index = result.withColumn(\"idx\", monotonically_increasing_id())\n",
        "\n",
        "# Join on the index\n",
        "final_df = result_with_index.join(df_with_index.select(\"idx\", \"target\"), on=\"idx\").drop(\"idx\")\n"
      ],
      "metadata": {
        "id": "CUOOqHrUkpOE"
      },
      "execution_count": 99,
      "outputs": []
    },
    {
      "cell_type": "code",
      "source": [
        "train_data, test_data = final_df.randomSplit([0.8, 0.2], seed=42)\n",
        "\n"
      ],
      "metadata": {
        "id": "jQdBsbEuXZ0m"
      },
      "execution_count": 100,
      "outputs": []
    },
    {
      "cell_type": "code",
      "source": [
        "result.show()"
      ],
      "metadata": {
        "colab": {
          "base_uri": "https://localhost:8080/"
        },
        "id": "Z21oPgyUk2Ku",
        "outputId": "7081ef6e-8352-46bf-b130-4a796d79e66b"
      },
      "execution_count": 101,
      "outputs": [
        {
          "output_type": "stream",
          "name": "stdout",
          "text": [
            "+--------------------+--------------------+--------------------+\n",
            "|              tokens|     filtered_tokens|            features|\n",
            "+--------------------+--------------------+--------------------+\n",
            "|[switchfoot, http...|[switchfoot, http...|[-0.0537012548052...|\n",
            "|[is, upset, that,...|[upset, cant, upd...|[-0.0713070921886...|\n",
            "|[kenichan, i, div...|[kenichan, dived,...|[0.00996953621506...|\n",
            "|[my, whole, body,...|[whole, body, fee...|[0.04063687446926...|\n",
            "|[nationwideclass,...|[nationwideclass,...|[0.00735034900052...|\n",
            "|[kwesidei, not, t...|[kwesidei, whole,...|[-0.0329757235012...|\n",
            "|    [need, a, hug, ]|       [need, hug, ]|[-0.0544717479497...|\n",
            "|[loltrish, hey, ,...|[loltrish, hey, ,...|[0.04788446867544...|\n",
            "|[tatianak, nope, ...|[tatianak, nope, ...|[-0.0052693709731...|\n",
            "|[twittera, que, m...|[twittera, que, m...|[-0.0633812626823...|\n",
            "|[spring, break, i...|[spring, break, p...|[0.06802074611186...|\n",
            "|[i, just, repierc...| [repierced, ears, ]|[-0.0128068284442...|\n",
            "|[caregiving, i, c...|[caregiving, coul...|[-0.0100184628473...|\n",
            "|[octolinz, it, it...|[octolinz, counts...|[0.01223980460781...|\n",
            "|[smarrison, i, wo...|[smarrison, would...|[0.02392927055748...|\n",
            "|[iamjazzyfizzle, ...|[iamjazzyfizzle, ...|[-0.1170144916977...|\n",
            "|[hollis, death, s...|[hollis, death, s...|[0.02924714320199...|\n",
            "|[about, to, file,...|     [file, taxes, ]|[-0.0094402405278...|\n",
            "|[lettya, ahh, ive...|[lettya, ahh, ive...|[-0.0508193097542...|\n",
            "|[fakerpattypattz,...|[fakerpattypattz,...|[-0.0286609143950...|\n",
            "+--------------------+--------------------+--------------------+\n",
            "only showing top 20 rows\n",
            "\n"
          ]
        }
      ]
    },
    {
      "cell_type": "code",
      "source": [
        "final_df.select(\"features\", \"target\").show()\n"
      ],
      "metadata": {
        "colab": {
          "base_uri": "https://localhost:8080/"
        },
        "id": "TSRZgkgVlE1N",
        "outputId": "6d97d2f5-6632-4f57-bc12-2dcff8c6008c"
      },
      "execution_count": 102,
      "outputs": [
        {
          "output_type": "stream",
          "name": "stdout",
          "text": [
            "+--------------------+------+\n",
            "|            features|target|\n",
            "+--------------------+------+\n",
            "|[-0.0537012548052...|     0|\n",
            "|[-0.0286609143950...|     0|\n",
            "|[0.11045893765985...|     0|\n",
            "|[-0.0600941821134...|     0|\n",
            "|[0.02250165287405...|     0|\n",
            "|[-0.0544717479497...|     0|\n",
            "|[-0.1210425070642...|     0|\n",
            "|[-0.0280522913672...|     0|\n",
            "|[0.05665780078958...|     0|\n",
            "|[-0.0034547784365...|     0|\n",
            "|[0.07804573373869...|     0|\n",
            "|[0.02062398828566...|     0|\n",
            "|[0.01291885289053...|     0|\n",
            "|[-0.0228574319432...|     0|\n",
            "|[0.03906210251152...|     0|\n",
            "|[0.00917887756306...|     0|\n",
            "|[0.01761707228918...|     0|\n",
            "|[0.02492280041968...|     0|\n",
            "|[0.00866161107551...|     0|\n",
            "|[-0.0127031747251...|     0|\n",
            "+--------------------+------+\n",
            "only showing top 20 rows\n",
            "\n"
          ]
        }
      ]
    },
    {
      "cell_type": "code",
      "source": [
        "from pyspark.ml.classification import LogisticRegression\n",
        "\n",
        "lr = LogisticRegression(featuresCol=\"features\", labelCol=\"target\")\n",
        "model = lr.fit(train_data)"
      ],
      "metadata": {
        "id": "Z-0Sl0dbaG1s"
      },
      "execution_count": 94,
      "outputs": []
    },
    {
      "cell_type": "code",
      "source": [
        "predictions = classifier.transform(test_data)\n",
        "predictions.select(\"prediction\", \"target\").show(10)\n"
      ],
      "metadata": {
        "colab": {
          "base_uri": "https://localhost:8080/"
        },
        "id": "7TINrQ_SaYWE",
        "outputId": "e9a5b242-f279-474b-8302-92c0e6b3c044"
      },
      "execution_count": 103,
      "outputs": [
        {
          "output_type": "stream",
          "name": "stdout",
          "text": [
            "+----------+------+\n",
            "|prediction|target|\n",
            "+----------+------+\n",
            "|       4.0|     0|\n",
            "|       4.0|     4|\n",
            "|       4.0|     0|\n",
            "|       0.0|     0|\n",
            "|       4.0|     0|\n",
            "|       4.0|     4|\n",
            "|       0.0|     0|\n",
            "|       0.0|     0|\n",
            "|       0.0|     0|\n",
            "|       4.0|     4|\n",
            "+----------+------+\n",
            "only showing top 10 rows\n",
            "\n"
          ]
        }
      ]
    },
    {
      "cell_type": "code",
      "source": [
        "from pyspark.ml.evaluation import MulticlassClassificationEvaluator\n",
        "evaluator = MulticlassClassificationEvaluator(\n",
        "    labelCol=\"target\",\n",
        "    predictionCol=\"prediction\",\n",
        "    metricName=\"accuracy\"\n",
        ")\n",
        "\n",
        "accuracy = evaluator.evaluate(predictions)\n",
        "print(f\"Train Accuracy = {accuracy:.4f}\")"
      ],
      "metadata": {
        "colab": {
          "base_uri": "https://localhost:8080/"
        },
        "id": "BM9IkbarvTF0",
        "outputId": "cbba3712-3561-4641-e668-104e14b4c076"
      },
      "execution_count": 104,
      "outputs": [
        {
          "output_type": "stream",
          "name": "stdout",
          "text": [
            "Test Accuracy = 0.7125\n"
          ]
        }
      ]
    },
    {
      "cell_type": "code",
      "source": [],
      "metadata": {
        "colab": {
          "base_uri": "https://localhost:8080/"
        },
        "id": "lVNUrNOEouDG",
        "outputId": "b46559b2-efbf-46fc-f7e1-887610ba8cc7"
      },
      "execution_count": 85,
      "outputs": [
        {
          "output_type": "stream",
          "name": "stdout",
          "text": [
            "Test Accuracy: 0.7125\n"
          ]
        }
      ]
    },
    {
      "cell_type": "code",
      "source": [
        "test_data.columns\n"
      ],
      "metadata": {
        "colab": {
          "base_uri": "https://localhost:8080/"
        },
        "id": "wVeyco8Eqbcu",
        "outputId": "ce856b01-a1b4-408d-cc09-7c79cbcb11ed"
      },
      "execution_count": 98,
      "outputs": [
        {
          "output_type": "execute_result",
          "data": {
            "text/plain": [
              "['tokens', 'filtered_tokens', 'target']"
            ]
          },
          "metadata": {},
          "execution_count": 98
        }
      ]
    },
    {
      "cell_type": "code",
      "source": [
        "test_data = test_data.drop(\"features\")\n",
        "\n",
        "\n"
      ],
      "metadata": {
        "id": "zGperOrEqqpl"
      },
      "execution_count": 92,
      "outputs": []
    },
    {
      "cell_type": "code",
      "source": [],
      "metadata": {
        "id": "bknO8zN7rapn"
      },
      "execution_count": null,
      "outputs": []
    }
  ]
}